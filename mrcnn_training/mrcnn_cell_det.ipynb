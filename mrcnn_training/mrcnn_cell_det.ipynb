{
  "cells": [
    {
      "cell_type": "code",
      "execution_count": null,
      "metadata": {
        "id": "GphzQ5VDL9pS"
      },
      "outputs": [],
      "source": [
        "\n",
        "! pip install keras==2.1.0\n",
        "! pip install h5py==2.10\n",
        "%tensorflow_version 1.x\n",
        "! pip install -U scikit-image==0.16.22"
      ]
    },
    {
      "cell_type": "code",
      "execution_count": null,
      "metadata": {
        "id": "7vUoCJAWNIaW"
      },
      "outputs": [],
      "source": [
        "\n",
        "from google.colab import drive\n",
        "drive.mount('/content/drive')"
      ]
    },
    {
      "cell_type": "code",
      "execution_count": null,
      "metadata": {
        "id": "tOkYBf0DAD99"
      },
      "outputs": [],
      "source": [
        "%cd '/content/drive/MyDrive/training/main/Mask_RCNN'"
      ]
    },
    {
      "cell_type": "code",
      "execution_count": null,
      "metadata": {
        "id": "djlzYSqdAKI7"
      },
      "outputs": [],
      "source": [
        "!python setup.py install"
      ]
    },
    {
      "cell_type": "code",
      "execution_count": 4,
      "metadata": {
        "id": "mGexteCmj75L"
      },
      "outputs": [
        {
          "name": "stdout",
          "output_type": "stream",
          "text": [
            "WARNING:tensorflow:From C:\\Users\\minec\\AppData\\Local\\Temp\\ipykernel_21860\\3061551442.py:3: is_gpu_available (from tensorflow.python.framework.test_util) is deprecated and will be removed in a future version.\n",
            "Instructions for updating:\n",
            "Use `tf.config.list_physical_devices('GPU')` instead.\n"
          ]
        }
      ],
      "source": [
        "import tensorflow as tf\n",
        "\n",
        "assert tf.test.is_gpu_available()\n",
        "assert tf.test.is_built_with_cuda()"
      ]
    },
    {
      "cell_type": "code",
      "execution_count": 1,
      "metadata": {},
      "outputs": [
        {
          "name": "stdout",
          "output_type": "stream",
          "text": [
            "/device:GPU:0\n"
          ]
        }
      ],
      "source": [
        "from tensorflow.python.client import device_lib\n",
        "import tensorflow as tf\n",
        "\n",
        "print(tf.test.gpu_device_name())"
      ]
    },
    {
      "cell_type": "code",
      "execution_count": 4,
      "metadata": {},
      "outputs": [],
      "source": [
        "fuckme =[3148.0, 15893.0, 19896.0, 13618.0, 5061.0, 14370.0, 6593.5, 13765.0, 7962.5, 6754.0, 26278.5, 1169.0, 6438.5, 2438.5, 1876.0, 4943.5, 545.0, 7303.5, 7784.0, 5.0, 8377.0, 436.5, 8060.5, 524.0, 450.5, \n",
        "2574.5, 2947.0, 1597.0, 7037.0, 642.5, 1328.0, 1798.0, 2608.5, 5656.5, 8843.0, 4472.5, 3558.5, 1511.5, 7208.5, 1112.5, 824.0, 171.5, 378.0, 642.0, 13398.5, 5265.0, 178.5, 646.0, 165.5, 168.5, 3127.5, \n",
        "364.5, 240.0, 722.5, 384.5, 4687.0, 420.0]\n"
      ]
    },
    {
      "cell_type": "code",
      "execution_count": 5,
      "metadata": {},
      "outputs": [
        {
          "name": "stdout",
          "output_type": "stream",
          "text": [
            "57\n"
          ]
        }
      ],
      "source": [
        "print(len(fuckme))"
      ]
    },
    {
      "cell_type": "code",
      "execution_count": 2,
      "metadata": {},
      "outputs": [
        {
          "data": {
            "text/plain": [
              "'c:\\\\Users\\\\minec\\\\OneDrive\\\\Documents\\\\GitHub\\\\kylieDataAnylasis\\\\mrcnn_training'"
            ]
          },
          "execution_count": 2,
          "metadata": {},
          "output_type": "execute_result"
        }
      ],
      "source": [
        "pwd"
      ]
    },
    {
      "cell_type": "code",
      "execution_count": 2,
      "metadata": {},
      "outputs": [
        {
          "data": {
            "image/png": "[encoded data removed]",
            "text/plain": [
              "<Figure size 432x288 with 1 Axes>"
            ]
          },
          "metadata": {
            "needs_background": "light"
          },
          "output_type": "display_data"
        }
      ],
      "source": [
        "# import image using skimage\n",
        "from skimage import io\n",
        "import matplotlib.pyplot as plt\n",
        "import numpy as np\n",
        "import cv2 \n",
        "# relative image path ./mrcnn_training\\main\\Mask_RCNN\\input\\20210620_C0.5_0000..jpg\n",
        "\n",
        "img = io.imread(r'C:\\Users\\minec\\OneDrive\\Documents\\GitHub\\kylieDataAnylasis\\mrcnn_training\\main\\Mask_RCNN\\out\\20210702_plate1_gem_c0.5_0001..jpg')\n",
        "# convert to grayscale\n",
        "img_gray = cv2.cvtColor(img, cv2.COLOR_BGR2GRAY)\n",
        "# plot and show a histogram of the image\n",
        "plt.hist(img_gray.ravel(), 256, [0, 256])\n",
        "plt.show()\n"
      ]
    },
    {
      "cell_type": "code",
      "execution_count": 1,
      "metadata": {},
      "outputs": [
        {
          "data": {
            "image/png": "[encoded data removed]",
            "text/plain": [
              "<Figure size 432x288 with 1 Axes>"
            ]
          },
          "metadata": {
            "needs_background": "light"
          },
          "output_type": "display_data"
        }
      ],
      "source": [
        "# import image using skimage\n",
        "from skimage import io\n",
        "import matplotlib.pyplot as plt\n",
        "import numpy as np\n",
        "import cv2 \n",
        "# relative image path ./mrcnn_training\\main\\Mask_RCNN\\input\\20210620_C0.5_0000..jpg\n",
        "\n",
        "img = io.imread(r'C:\\Users\\minec\\OneDrive\\Documents\\GitHub\\kylieDataAnylasis\\mrcnn_training\\main\\Mask_RCNN\\out\\20210620_C0.5_0000..jpg')\n",
        "# convert to grayscale\n",
        "img_gray = cv2.cvtColor(img, cv2.COLOR_BGR2GRAY)\n",
        "# plot and show a histogram of the image\n",
        "plt.hist(img_gray.ravel(), 256, [0, 256])\n",
        "# print the third highest pixel value \n",
        "\n",
        "\n",
        "plt.show()\n"
      ]
    },
    {
      "cell_type": "code",
      "execution_count": 1,
      "metadata": {},
      "outputs": [],
      "source": [
        "import cv2"
      ]
    },
    {
      "cell_type": "code",
      "execution_count": 2,
      "metadata": {},
      "outputs": [],
      "source": [
        "image = cv2.imread(r\"C:\\Users\\minec\\OneDrive\\Documents\\GitHub\\kylieDataAnylasis\\mrcnn_training\\main\\Mask_RCNN\\input\\20210702_plate3_c2.5_0000.jpg\")"
      ]
    },
    {
      "cell_type": "code",
      "execution_count": 4,
      "metadata": {},
      "outputs": [
        {
          "name": "stdout",
          "output_type": "stream",
          "text": [
            "3024x3226\n"
          ]
        }
      ],
      "source": [
        "import numpy as np\n",
        "width,height = image.shape[:2]\n",
        "print(f\"{width}x{height}\")"
      ]
    }
  ],
  "metadata": {
    "accelerator": "GPU",
    "colab": {
      "collapsed_sections": [],
      "name": "colab_training.ipynb",
      "provenance": []
    },
    "kernelspec": {
      "display_name": "Python 3.8.13 ('environment_mrcnn_latest')",
      "language": "python",
      "name": "python3"
    },
    "language_info": {
      "codemirror_mode": {
        "name": "ipython",
        "version": 3
      },
      "file_extension": ".py",
      "mimetype": "text/x-python",
      "name": "python",
      "nbconvert_exporter": "python",
      "pygments_lexer": "ipython3",
      "version": "3.8.13"
    },
    "vscode": {
      "interpreter": {
        "hash": "91aa516fc40c70153df59de89695bd56f1e344c1e8e4de01eae669a42dc1c065"
      }
    }
  },
  "nbformat": 4,
  "nbformat_minor": 0
}
